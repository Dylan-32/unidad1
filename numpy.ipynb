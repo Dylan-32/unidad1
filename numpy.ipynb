{
  "nbformat": 4,
  "nbformat_minor": 0,
  "metadata": {
    "colab": {
      "provenance": [],
      "authorship_tag": "ABX9TyPbfTGFjxZnRpN9Yu0YD66b",
      "include_colab_link": true
    },
    "kernelspec": {
      "name": "python3",
      "display_name": "Python 3"
    },
    "language_info": {
      "name": "python"
    }
  },
  "cells": [
    {
      "cell_type": "markdown",
      "metadata": {
        "id": "view-in-github",
        "colab_type": "text"
      },
      "source": [
        "<a href=\"https://colab.research.google.com/github/Dylan-32/unidad1/blob/main/numpy.ipynb\" target=\"_parent\"><img src=\"https://colab.research.google.com/assets/colab-badge.svg\" alt=\"Open In Colab\"/></a>"
      ]
    },
    {
      "cell_type": "code",
      "execution_count": null,
      "metadata": {
        "id": "9CGdF15liQgI"
      },
      "outputs": [],
      "source": []
    },
    {
      "cell_type": "markdown",
      "source": [
        "Numpy es una libreria de python.\n",
        "Numpy se utiliza para trabajar  con matrices o arreglo\n",
        "Numpy es la abreviatura de \"python  numerioco\"\n",
        "Tambien tiene funciones para trabajar en el dominio del algebra lineal,la transformada y las matrices\n",
        "En python tenemos listas que sirven como matrices pero ,son lentas de procesar\n",
        "Numpy tiene como objetivo  proporcionar un objeto de matriz que sea 50 veces mas rapido que las lineas tradicionales."
      ],
      "metadata": {
        "id": "2fMd8OWji0ow"
      }
    },
    {
      "cell_type": "code",
      "source": [
        "#primero tenemos que importar la libreria\n",
        "import numpy\n",
        "\n",
        "arreglo = numpy.array([1,2,3,4,5])\n",
        "print(arreglo)"
      ],
      "metadata": {
        "colab": {
          "base_uri": "https://localhost:8080/"
        },
        "id": "LXBU-__ilG2Y",
        "outputId": "78921a6b-7289-4ce4-b16a-ee0a1d97ccfb"
      },
      "execution_count": 1,
      "outputs": [
        {
          "output_type": "stream",
          "name": "stdout",
          "text": [
            "[1 2 3 4 5]\n"
          ]
        }
      ]
    },
    {
      "cell_type": "markdown",
      "source": [
        "Numpy como np\n",
        "Numpy generalmente  se importa  bajo el alias np.\n",
        "En python los alias son un nombre  alternativo para referirse  ala misma cosa"
      ],
      "metadata": {
        "id": "ul7qISWTmKjY"
      }
    },
    {
      "cell_type": "code",
      "source": [
        "import numpy as np\n",
        "\n",
        "arreglo = np.array([6,7,8,9,10])\n",
        "print(arreglo)"
      ],
      "metadata": {
        "colab": {
          "base_uri": "https://localhost:8080/"
        },
        "id": "DQ7_6v6SmweH",
        "outputId": "6a70bc6f-73fe-423d-b38b-719aeba4e989"
      },
      "execution_count": 2,
      "outputs": [
        {
          "output_type": "stream",
          "name": "stdout",
          "text": [
            "[ 6  7  8  9 10]\n"
          ]
        }
      ]
    },
    {
      "cell_type": "markdown",
      "source": [
        "comprobando la version de numpy\n",
        "la cadena de la version se almacena en el atributo__version__"
      ],
      "metadata": {
        "id": "YWCqjr1Jnbfv"
      }
    },
    {
      "cell_type": "code",
      "source": [
        "import numpy as np\n",
        "\n",
        "print(np.__version__)"
      ],
      "metadata": {
        "colab": {
          "base_uri": "https://localhost:8080/"
        },
        "id": "ilRKiTuon0wv",
        "outputId": "68c9823d-a9ac-4227-f47b-d6194a6f00fc"
      },
      "execution_count": 3,
      "outputs": [
        {
          "output_type": "stream",
          "name": "stdout",
          "text": [
            "2.0.2\n"
          ]
        }
      ]
    },
    {
      "cell_type": "markdown",
      "source": [
        "Numpy creando matrices\n",
        "crear un objeto ndarray de Numpy se utiliza para trabajar con matrices .El objeto de matriz se llama ndrray .\n",
        "podemos crear un numpy ndarray utilizando la funcion array()"
      ],
      "metadata": {
        "id": "Bduex75coP5f"
      }
    },
    {
      "cell_type": "code",
      "source": [
        "import  numpy as np\n",
        "arreglo = np.array([\"dylan\",\"danna\"])\n",
        "print(arreglo)\n",
        "print(type(arreglo))"
      ],
      "metadata": {
        "colab": {
          "base_uri": "https://localhost:8080/"
        },
        "id": "UhRD6lsBpJBP",
        "outputId": "e2d72289-bd21-4ef7-cef7-f6b2d27cf840"
      },
      "execution_count": 5,
      "outputs": [
        {
          "output_type": "stream",
          "name": "stdout",
          "text": [
            "['dylan' 'danna']\n",
            "<class 'numpy.ndarray'>\n"
          ]
        }
      ]
    },
    {
      "cell_type": "markdown",
      "source": [
        "dimenciones en matrices un dimension en matrices es un nivel de profundidad de matriz(matrices unidades)\n",
        "una matriz unidada contiene matrices como elementos\n",
        "matrices0-D. son elementos de una matriz.Cada valor de una matriz es una matriz0-D. Ejemplo:crea una matriz 0-D con valor de 42\n"
      ],
      "metadata": {
        "id": "wQpGlCFtqShP"
      }
    },
    {
      "cell_type": "code",
      "source": [
        "import numpy as np\n",
        "\n",
        "arreglo = np.array(42)\n",
        "\n",
        "print(arreglo)"
      ],
      "metadata": {
        "colab": {
          "base_uri": "https://localhost:8080/"
        },
        "id": "kw7ED68ZsKcA",
        "outputId": "1ab2e3ac-6c3c-4954-c27e-d509ba262395"
      },
      "execution_count": 20,
      "outputs": [
        {
          "output_type": "stream",
          "name": "stdout",
          "text": [
            "42\n"
          ]
        }
      ]
    },
    {
      "cell_type": "markdown",
      "source": [
        "matrices 1-D  una matriz que tiene matrices 0-D como element5o se denomina matriz unidimesional  o 1-D estas son las matrices mas comunes o basicas  Ejemplo: matriz de 1-D los valores 1,2,3,4,5"
      ],
      "metadata": {
        "id": "D1g6Y1zks8Ff"
      }
    },
    {
      "cell_type": "code",
      "source": [
        "import numpy as np\n",
        "\n",
        "arreglo = np.array([1,2,3,4,5])\n",
        "\n",
        "print(arreglo)"
      ],
      "metadata": {
        "colab": {
          "base_uri": "https://localhost:8080/"
        },
        "id": "1h79xMJvtc9_",
        "outputId": "9d9536c4-5b6f-4700-81b2-dcd621415a4c"
      },
      "execution_count": 21,
      "outputs": [
        {
          "output_type": "stream",
          "name": "stdout",
          "text": [
            "[1 2 3 4 5]\n"
          ]
        }
      ]
    },
    {
      "cell_type": "markdown",
      "source": [
        "matrices 2D\n",
        "uma matriz que tiene matrices 1-D como elemento  se denomina matriz 2-D.\n",
        "A menudo se utilizan para presentar matrices de segundo orden . Numpy tiene un submodulo  completo dedicado a operaciones con matrices  llamado numpy.mat.\n",
        "Ejemplo:crea un matriz 2D que con tenga dos matrices con los valores 123 y 459."
      ],
      "metadata": {
        "id": "VyUcnsAhtscP"
      }
    },
    {
      "cell_type": "code",
      "source": [
        "import numpy as np\n",
        "\n",
        "arreglo = np.array([[1,2,3],[4,5,6]])\n",
        "\n",
        "print(arreglo)"
      ],
      "metadata": {
        "colab": {
          "base_uri": "https://localhost:8080/"
        },
        "id": "D7gfHhpXupff",
        "outputId": "0de61c9b-e4c7-4426-98e3-0be7d811b6de"
      },
      "execution_count": 22,
      "outputs": [
        {
          "output_type": "stream",
          "name": "stdout",
          "text": [
            "[[1 2 3]\n",
            " [4 5 6]]\n"
          ]
        }
      ]
    },
    {
      "cell_type": "markdown",
      "source": [
        "Matrices 3D\n",
        "una matriz que tiene matrices 2d se denomina matriz 3D.\n",
        "estas matrices se utilizan para representar una matriz de tercer orden.\n",
        "Ejemplo:crea una matriz 3D con dos matrices bidimensionales,conteniendo dos matrices con los valores 1,2,3 y 4,5,6"
      ],
      "metadata": {
        "id": "T6YWhbx2vVL_"
      }
    },
    {
      "cell_type": "code",
      "source": [
        "import  numpy as np\n",
        "\n",
        "arreglo = np.array ([[[1,2,3],[4,5,6]],[[1,2,3],[4,5,6]]])\n",
        "\n",
        "print (arreglo)"
      ],
      "metadata": {
        "colab": {
          "base_uri": "https://localhost:8080/"
        },
        "id": "jkx0ds_kwGAw",
        "outputId": "672a1720-4c65-44f7-b552-9c77ba994eb0"
      },
      "execution_count": 25,
      "outputs": [
        {
          "output_type": "stream",
          "name": "stdout",
          "text": [
            "[[[1 2 3]\n",
            "  [4 5 6]]\n",
            "\n",
            " [[1 2 3]\n",
            "  [4 5 6]]]\n"
          ]
        }
      ]
    }
  ]
}