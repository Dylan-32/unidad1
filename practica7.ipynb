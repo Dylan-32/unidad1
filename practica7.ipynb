{
  "nbformat": 4,
  "nbformat_minor": 0,
  "metadata": {
    "colab": {
      "provenance": [],
      "authorship_tag": "ABX9TyM5ZAKXLElcUUfJ+B9vNZhs",
      "include_colab_link": true
    },
    "kernelspec": {
      "name": "python3",
      "display_name": "Python 3"
    },
    "language_info": {
      "name": "python"
    }
  },
  "cells": [
    {
      "cell_type": "markdown",
      "metadata": {
        "id": "view-in-github",
        "colab_type": "text"
      },
      "source": [
        "<a href=\"https://colab.research.google.com/github/Dylan-32/unidad1/blob/main/practica7.ipynb\" target=\"_parent\"><img src=\"https://colab.research.google.com/assets/colab-badge.svg\" alt=\"Open In Colab\"/></a>"
      ]
    },
    {
      "cell_type": "code",
      "source": [],
      "metadata": {
        "id": "FBYsSSAiHkC7"
      },
      "execution_count": null,
      "outputs": []
    },
    {
      "cell_type": "markdown",
      "source": [
        "Dylan  Omar Pedroza -practica 7-25 de septiembre de 2025\n",
        "---------------------------------------\n",
        "slicing numpy\n",
        "----------------\n",
        "utilice step para determinar el paso del corte:\n",
        "Ejemplo: ([1,2,3,4,5,6,7])- devuelve todos los elementos del indice 1 al 5"
      ],
      "metadata": {
        "id": "Za89wLq8GaPw"
      }
    },
    {
      "cell_type": "code",
      "source": [
        "import numpy as np\n",
        "\n",
        "arreglo = np.array([1,2,3,4,5,6,7])\n",
        "print(arreglo[1:5:2])"
      ],
      "metadata": {
        "colab": {
          "base_uri": "https://localhost:8080/"
        },
        "id": "RIWEfdV7IKlH",
        "outputId": "f5cb510d-f843-46fe-90e1-c8f6824eb123"
      },
      "execution_count": 1,
      "outputs": [
        {
          "output_type": "stream",
          "name": "stdout",
          "text": [
            "[2 4]\n"
          ]
        }
      ]
    },
    {
      "cell_type": "markdown",
      "source": [
        "Ejemplo 2: (1,2,3,4,5,6,7) devuelve los elemtos dela matriz"
      ],
      "metadata": {
        "id": "4VAmeCbvIwnJ"
      }
    },
    {
      "cell_type": "code",
      "source": [
        "import numpy as np\n",
        "arreglo = np.array([1,2,3,4,5,6,7])\n",
        "print(arreglo[::2])\n",
        ""
      ],
      "metadata": {
        "colab": {
          "base_uri": "https://localhost:8080/"
        },
        "id": "6KU-Yv4iJHE4",
        "outputId": "c7dc3383-6c03-4d1a-ac9b-e434938898eb"
      },
      "execution_count": 2,
      "outputs": [
        {
          "output_type": "stream",
          "name": "stdout",
          "text": [
            "[1 3 5 7]\n"
          ]
        }
      ]
    },
    {
      "cell_type": "markdown",
      "source": [
        "slice de matrices 2D\n",
        "------------------------\n",
        "Ejemplo3: ([[1,2,3,4,5]),[6,7,8,9,10]])\n",
        "del segundo elemento, corte del indice 1 al indice 4\n"
      ],
      "metadata": {
        "id": "oWt0pnkdJ4Ww"
      }
    },
    {
      "cell_type": "code",
      "source": [
        "import numpy as np\n",
        "arreglo = np.array([[1,2,3,4,5],[6,7,8,9,10]])\n",
        "print(arreglo[1, 1:4])"
      ],
      "metadata": {
        "colab": {
          "base_uri": "https://localhost:8080/"
        },
        "id": "Vxiy-HsXLfGo",
        "outputId": "8d88fd80-b34a-4181-b37f-b04a8c528019"
      },
      "execution_count": 5,
      "outputs": [
        {
          "output_type": "stream",
          "name": "stdout",
          "text": [
            "[7 8 9]\n"
          ]
        }
      ]
    },
    {
      "cell_type": "markdown",
      "source": [
        "ejemplo 4: ([[1,2,3,4,,5],[6,7,8,9,10]])\n",
        "de ambos elementos,devuelve el indice 2"
      ],
      "metadata": {
        "id": "oEv5DvywNMDo"
      }
    },
    {
      "cell_type": "code",
      "source": [
        "import numpy as np\n",
        "arreglo = np.array([[1,2,3,4,5],[6,7,8,9,10]])\n",
        "print(arreglo[0:2, 1:4])"
      ],
      "metadata": {
        "colab": {
          "base_uri": "https://localhost:8080/"
        },
        "id": "tNjI40cVNmlQ",
        "outputId": "0d515927-6e84-417b-d022-1bfb91216989"
      },
      "execution_count": 8,
      "outputs": [
        {
          "output_type": "stream",
          "name": "stdout",
          "text": [
            "[[2 3 4]\n",
            " [7 8 9]]\n"
          ]
        }
      ]
    },
    {
      "cell_type": "markdown",
      "source": [
        "Ejemplo 5:([[1,2,3,4,5],[6,7,8,9,10]]) de ambos elementos corta el inidice del 1 al 4"
      ],
      "metadata": {
        "id": "gE6iiymCOZn4"
      }
    },
    {
      "cell_type": "code",
      "source": [
        "import numpy as np\n",
        "arreglo  = np.array([[1,2,3,4,5], [6,7,8,9,10]])\n",
        "print(arreglo[0:2, 1:4])"
      ],
      "metadata": {
        "colab": {
          "base_uri": "https://localhost:8080/"
        },
        "id": "A8NGKHz1Ou3h",
        "outputId": "406655e2-44a4-4aec-bf90-95cfbf26df90"
      },
      "execution_count": 7,
      "outputs": [
        {
          "output_type": "stream",
          "name": "stdout",
          "text": [
            "[[2 3 4]\n",
            " [7 8 9]]\n"
          ]
        }
      ]
    },
    {
      "cell_type": "markdown",
      "source": [
        "ejercicio 1 - Autonomo\n",
        "del siguiente arreglo, ¿cual es el resultado?\n",
        "([1,2,3,4,5,6,7])\n",
        "corta del 1er elemnto al 6to elemento con 2 pasos"
      ],
      "metadata": {
        "id": "dm0Kta35PW7I"
      }
    },
    {
      "cell_type": "code",
      "source": [
        "import numpy as np\n",
        "arreglo = np.array([1,2,3,4,5,6,7])\n",
        "print(arreglo[0:6:2])"
      ],
      "metadata": {
        "colab": {
          "base_uri": "https://localhost:8080/"
        },
        "id": "x8iNPvXfP-wg",
        "outputId": "1d706161-0d43-4ce2-ba2b-8061e949c149"
      },
      "execution_count": 12,
      "outputs": [
        {
          "output_type": "stream",
          "name": "stdout",
          "text": [
            "[1 3 5]\n"
          ]
        }
      ]
    }
  ]
}