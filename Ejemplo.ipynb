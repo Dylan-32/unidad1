{
  "nbformat": 4,
  "nbformat_minor": 0,
  "metadata": {
    "colab": {
      "provenance": [],
      "authorship_tag": "ABX9TyOhHx8TygrlJypdYL2LDWtk",
      "include_colab_link": true
    },
    "kernelspec": {
      "name": "python3",
      "display_name": "Python 3"
    },
    "language_info": {
      "name": "python"
    }
  },
  "cells": [
    {
      "cell_type": "markdown",
      "metadata": {
        "id": "view-in-github",
        "colab_type": "text"
      },
      "source": [
        "<a href=\"https://colab.research.google.com/github/Dylan-32/unidad1/blob/main/Ejemplo.ipynb\" target=\"_parent\"><img src=\"https://colab.research.google.com/assets/colab-badge.svg\" alt=\"Open In Colab\"/></a>"
      ]
    },
    {
      "cell_type": "code",
      "execution_count": null,
      "metadata": {
        "id": "o1wv2ZHXwe3a"
      },
      "outputs": [],
      "source": []
    },
    {
      "cell_type": "markdown",
      "source": [
        "Prueba de colab phython"
      ],
      "metadata": {
        "id": "BonBlabUxeJF"
      }
    },
    {
      "cell_type": "code",
      "source": [
        "print(\"hola mundo\")"
      ],
      "metadata": {
        "colab": {
          "base_uri": "https://localhost:8080/"
        },
        "id": "Oky_ezcFxyXo",
        "outputId": "ce6a4ed1-101b-4cca-f8f1-de3994a6baac"
      },
      "execution_count": 1,
      "outputs": [
        {
          "output_type": "stream",
          "name": "stdout",
          "text": [
            "hola mundo\n"
          ]
        }
      ]
    },
    {
      "cell_type": "markdown",
      "source": [
        "variables"
      ],
      "metadata": {
        "id": "T1olLCw-ySR6"
      }
    },
    {
      "cell_type": "code",
      "source": [
        "\n",
        "#variables en phython\n",
        "nombre = \"dylan\"\n",
        "paterno = \"pedroza\"\n",
        "materno = \"escobar\"\n",
        "edad = 17\n",
        "estatura = 1.80\n",
        "\n",
        "print(nombre,paterno,materno,edad,estatura,)"
      ],
      "metadata": {
        "colab": {
          "base_uri": "https://localhost:8080/"
        },
        "id": "5XInWlzeyVzZ",
        "outputId": "e4a4867f-f3b6-407e-9d60-cf9a8b126490"
      },
      "execution_count": 2,
      "outputs": [
        {
          "output_type": "stream",
          "name": "stdout",
          "text": [
            "dylan pedroza escobar 17 1.8\n"
          ]
        }
      ]
    },
    {
      "cell_type": "markdown",
      "source": [
        "solicitas 2 numeros al usuario y sumarlo"
      ],
      "metadata": {
        "id": "Pdb4PI-szexp"
      }
    },
    {
      "cell_type": "code",
      "source": [
        "numero1 = int(input(\"ingresa el primero numero\"))\n",
        "numero2 = int(input(\"ingresa el segundo numero\"))\n",
        "suma = numero1 + numero2\n",
        "print(\"suma = \" , suma)\n"
      ],
      "metadata": {
        "colab": {
          "base_uri": "https://localhost:8080/"
        },
        "id": "c1RgOWNXzsNR",
        "outputId": "30b68848-2d37-4ad3-fbfa-4a156204c7a6"
      },
      "execution_count": 16,
      "outputs": [
        {
          "output_type": "stream",
          "name": "stdout",
          "text": [
            "ingresa el primero numero12\n",
            "ingresa el segundo numero3\n",
            "suma =  15\n"
          ]
        }
      ]
    }
  ]
}