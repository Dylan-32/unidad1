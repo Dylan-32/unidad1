{
  "nbformat": 4,
  "nbformat_minor": 0,
  "metadata": {
    "colab": {
      "provenance": [],
      "authorship_tag": "ABX9TyM4Qqt50nkRMimkOu7d34MH",
      "include_colab_link": true
    },
    "kernelspec": {
      "name": "python3",
      "display_name": "Python 3"
    },
    "language_info": {
      "name": "python"
    }
  },
  "cells": [
    {
      "cell_type": "markdown",
      "metadata": {
        "id": "view-in-github",
        "colab_type": "text"
      },
      "source": [
        "<a href=\"https://colab.research.google.com/github/Dylan-32/unidad1/blob/main/Untitled2.ipynb\" target=\"_parent\"><img src=\"https://colab.research.google.com/assets/colab-badge.svg\" alt=\"Open In Colab\"/></a>"
      ]
    },
    {
      "cell_type": "code",
      "execution_count": null,
      "metadata": {
        "id": "KNxu-Uz3QSC7"
      },
      "outputs": [],
      "source": []
    },
    {
      "cell_type": "markdown",
      "source": [
        "Actividad14\n",
        "--------------------------\n",
        "numpy indesaxion de matrices acceder a elementos de una matriz la indesaccion de matrices  es lo mismo que acceder a un elemento  de matriz puede acceder a un elemento de una matriz haciendo referencia a su numero de indice, los indices en las matrices numpy comienza en 0 lo que significa que el primer elemnto tiene indice 0 el segundo tiene indice 1,el tercero indice 2etc"
      ],
      "metadata": {
        "id": "TToeAX1mQURg"
      }
    },
    {
      "cell_type": "code",
      "source": [
        "import numpy as np\n",
        "\n",
        "arreglo = np.array([1,2,3,4,5])\n",
        "\n",
        "print(arreglo[0])\n"
      ],
      "metadata": {
        "colab": {
          "base_uri": "https://localhost:8080/"
        },
        "id": "B8P9LEJ1Rt3Q",
        "outputId": "74c6ec3f-00de-4ba8-c9fd-55fe9a1b61a2"
      },
      "execution_count": 4,
      "outputs": [
        {
          "output_type": "stream",
          "name": "stdout",
          "text": [
            "1\n"
          ]
        }
      ]
    },
    {
      "cell_type": "markdown",
      "source": [
        "Dela siguiente lista 1,2,3,4,5,6,7,8,9,10,ontenga el resultado 3 y 4 elemento\n"
      ],
      "metadata": {
        "id": "sM24xY1PSo-9"
      }
    },
    {
      "cell_type": "code",
      "source": [
        "import numpy as np\n",
        "\n",
        "arreglo = np.array([6,7,8,9,10])\n",
        "\n",
        "print(arreglo[2])\n",
        "print(arreglo[3])"
      ],
      "metadata": {
        "colab": {
          "base_uri": "https://localhost:8080/"
        },
        "id": "BaSLF4y9S7xv",
        "outputId": "10d5a0ca-c59a-4e00-f06a-8b239877e3c7"
      },
      "execution_count": 27,
      "outputs": [
        {
          "output_type": "stream",
          "name": "stdout",
          "text": [
            "8\n",
            "9\n"
          ]
        }
      ]
    },
    {
      "cell_type": "markdown",
      "source": [
        "Acceder alas matrices dos D parra acceder a elementos de matrices dos d podemos utilizar numeros enteros separados por que representa al numero de dimensiones y al indice del elemento"
      ],
      "metadata": {
        "id": "gTfu2diPVLth"
      }
    },
    {
      "cell_type": "code",
      "source": [
        "import numpy as np\n",
        "\n",
        "arreglo = np.array([[1,2,3,4,5],[6,7,8,9,10]])\n",
        "\n",
        "print(arreglo [0,1])"
      ],
      "metadata": {
        "colab": {
          "base_uri": "https://localhost:8080/"
        },
        "id": "cMOf7-dtVoSk",
        "outputId": "1a249e0b-712b-4d9f-a2b1-82e5db25551d"
      },
      "execution_count": 28,
      "outputs": [
        {
          "output_type": "stream",
          "name": "stdout",
          "text": [
            "2\n"
          ]
        }
      ]
    },
    {
      "cell_type": "markdown",
      "source": [],
      "metadata": {
        "id": "sNEFW7GFWov_"
      }
    }
  ]
}