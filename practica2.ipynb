{
  "nbformat": 4,
  "nbformat_minor": 0,
  "metadata": {
    "colab": {
      "provenance": [],
      "authorship_tag": "ABX9TyMG9zI+8WLxrKbsuzUIyOsw",
      "include_colab_link": true
    },
    "kernelspec": {
      "name": "python3",
      "display_name": "Python 3"
    },
    "language_info": {
      "name": "python"
    }
  },
  "cells": [
    {
      "cell_type": "markdown",
      "metadata": {
        "id": "view-in-github",
        "colab_type": "text"
      },
      "source": [
        "<a href=\"https://colab.research.google.com/github/Dylan-32/unidad1/blob/main/practica2.ipynb\" target=\"_parent\"><img src=\"https://colab.research.google.com/assets/colab-badge.svg\" alt=\"Open In Colab\"/></a>"
      ]
    },
    {
      "cell_type": "markdown",
      "source": [
        "practica2-numpy\n",
        "Dylan Omar pedroza E.\n",
        "fecha 09 de septiembre de 2025\n",
        "------------------\n",
        "como verificar el numero de dimensiones.\n",
        "Numpy proporcionar el atributo ndim que devuelve un numero entero que nos dice  cuantas dimensiones tiene una matriz.\n",
        "----------------------------------\n",
        "Ejemplo:comprueba de cuantas dimensiones son las siguientes matrices.\n",
        "------------------------------------------------\n",
        "\n"
      ],
      "metadata": {
        "id": "lP0yUNvhrCjC"
      }
    },
    {
      "cell_type": "code",
      "source": [
        "import numpy as np\n",
        "\n",
        "arregloA = np.array(42)\n",
        "arregloB = np.array([1,2,3,4,5,])\n",
        "arregloC = np.array([[1,2,3],[4,5,6]])\n",
        "arregloD = np.array([[[1,2,3],[4,5,6]],[[1,2,3],[4,5,6]]])\n",
        "\n",
        "print(arregloA.ndim)\n",
        "print(arregloB.ndim)\n",
        "print(arregloC.ndim)\n",
        "print(arregloD.ndim)"
      ],
      "metadata": {
        "colab": {
          "base_uri": "https://localhost:8080/"
        },
        "id": "W7qtEjH4sfDC",
        "outputId": "b3072545-01b4-47b4-f919-10fd4a711d19"
      },
      "execution_count": 4,
      "outputs": [
        {
          "output_type": "stream",
          "name": "stdout",
          "text": [
            "0\n",
            "1\n",
            "2\n",
            "3\n"
          ]
        }
      ]
    },
    {
      "cell_type": "code",
      "source": [],
      "metadata": {
        "id": "PDRxgmIsx5oQ"
      },
      "execution_count": null,
      "outputs": []
    },
    {
      "cell_type": "markdown",
      "source": [
        "matrices de dimensiones superiores\n",
        "una matriz peuede tener cual quier numero de dimensiones .cuando se crea la matriz,puede definir el numero de dimensiones utilizando el argumento ndimn.\n",
        "---------------------\n",
        "Ejemplo:crea una matriz con 5 dimenisones y verifica que tenga las 5 dimensiones .\n",
        "---------------\n"
      ],
      "metadata": {
        "id": "8omVGBdCuywR"
      }
    },
    {
      "cell_type": "code",
      "source": [
        "import numpy as np\n",
        "\n",
        "arreglo =np.array ([1,2,3,4,5],ndmin=5)\n",
        "\n",
        "print(arreglo)\n",
        "\n",
        "print(\"numero de dimensiones : \", arreglo.ndim)\n"
      ],
      "metadata": {
        "colab": {
          "base_uri": "https://localhost:8080/"
        },
        "id": "ZDbB7VGzwFHR",
        "outputId": "c2e2a6a3-e928-4e58-e7cb-8fc76e64d788"
      },
      "execution_count": 10,
      "outputs": [
        {
          "output_type": "stream",
          "name": "stdout",
          "text": [
            "[[[[[1 2 3 4 5]]]]]\n",
            "numero de dimensiones :  5\n"
          ]
        }
      ]
    },
    {
      "cell_type": "markdown",
      "source": [
        "Ejercicio\n",
        "considerando la siguiente matriz\n",
        "\n",
        "arreglo = np.array([[1,2,3],[4,5,6]])\n",
        "\n",
        "¿cuantas dimensiones tiene?\n",
        "respuesta = 2  "
      ],
      "metadata": {
        "id": "U2l8duWCycwA"
      }
    },
    {
      "cell_type": "markdown",
      "source": [
        "Numpy indexacion de matrices\n",
        "Acceder  a elementos  de una matriz\n",
        "la indexacion de matrices es lo mismo que acceder a un elemento  de una matriz .\n",
        "puede acceder a un elemento de la matriz  haciendo referencia a su numero de indice.\n",
        "los indices en las matrices Numpy comienza en 0,lo que significa que el primer elemento tiene el indice 0 y el segundo tiene el indice1,etc.\n",
        "Ejemplo: obtenga el primer elemento de la iguiente matriz\n",
        "-------\n"
      ],
      "metadata": {
        "id": "IQRFI3PNzUCI"
      }
    },
    {
      "cell_type": "code",
      "source": [
        "import numpy as np\n",
        "\n",
        "arreglo = np.array([1,2,3,4])\n",
        "\n",
        "print (arreglo[0])\n"
      ],
      "metadata": {
        "colab": {
          "base_uri": "https://localhost:8080/"
        },
        "id": "yzk7CzAP0-MX",
        "outputId": "b6828827-ad47-417b-d10c-5ed5db57cf65"
      },
      "execution_count": 11,
      "outputs": [
        {
          "output_type": "stream",
          "name": "stdout",
          "text": [
            "1\n"
          ]
        }
      ]
    }
  ]
}