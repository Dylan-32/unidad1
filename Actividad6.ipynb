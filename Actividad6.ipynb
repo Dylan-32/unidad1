{
  "nbformat": 4,
  "nbformat_minor": 0,
  "metadata": {
    "colab": {
      "provenance": [],
      "authorship_tag": "ABX9TyNVq4LUX4NeQulL2cy0FIbv",
      "include_colab_link": true
    },
    "kernelspec": {
      "name": "python3",
      "display_name": "Python 3"
    },
    "language_info": {
      "name": "python"
    }
  },
  "cells": [
    {
      "cell_type": "markdown",
      "metadata": {
        "id": "view-in-github",
        "colab_type": "text"
      },
      "source": [
        "<a href=\"https://colab.research.google.com/github/Dylan-32/unidad1/blob/main/Actividad6.ipynb\" target=\"_parent\"><img src=\"https://colab.research.google.com/assets/colab-badge.svg\" alt=\"Open In Colab\"/></a>"
      ]
    },
    {
      "cell_type": "code",
      "execution_count": null,
      "metadata": {
        "id": "Znt8Fa8qCib4"
      },
      "outputs": [],
      "source": []
    },
    {
      "cell_type": "markdown",
      "source": [
        "Dylan omar pedroza - 24 de septiembre de 2025 practica-6 cortar arreglos numpy\n",
        "-----------------------------------------------------------------------------\n",
        "slice en python  significa tomar elementos de un indice determinado ah otro determinado indice.\n",
        "\n",
        "pasamos slice en lugar de indice de esta manera: [start:end]\n",
        "si no pasamos este inicio se considera 0\n",
        "si no pasamos  el final su longuitud es considerada una matrizde una dimension\n",
        "--------------------\n",
        "ejemplo: ([1,2,3,4,5,6,7])\n",
        "cortar los elementos del indice 1 al indice 5                                                              \n"
      ],
      "metadata": {
        "id": "Am1OVDf5Cjri"
      }
    },
    {
      "cell_type": "code",
      "source": [
        "import numpy as np\n",
        "\n",
        "arreglo = np.array([1,2,3,4,5,6,7])\n",
        "\n",
        "print(arreglo[1:5])"
      ],
      "metadata": {
        "colab": {
          "base_uri": "https://localhost:8080/"
        },
        "id": "60hmmR2zKa6z",
        "outputId": "24a697a3-5ee9-4bfd-8b85-b016bf8feefb"
      },
      "execution_count": 1,
      "outputs": [
        {
          "output_type": "stream",
          "name": "stdout",
          "text": [
            "[2 3 4 5]\n"
          ]
        }
      ]
    },
    {
      "cell_type": "markdown",
      "source": [
        "Elmplo 2:([1,2,3,4,5,6,7]) cortar el indice 4 hasta el final dela matriz"
      ],
      "metadata": {
        "id": "z8vPOIidLMtM"
      }
    },
    {
      "cell_type": "code",
      "source": [
        "import numpy as np\n",
        "\n",
        "arreglo = np.array ([1,2,3,4,5,6,7])\n",
        "\n",
        "print(arreglo [4:])"
      ],
      "metadata": {
        "colab": {
          "base_uri": "https://localhost:8080/"
        },
        "id": "4ojkcR8VLlqz",
        "outputId": "c9c75a32-9cfc-4454-9d9d-5f9890e7fd62"
      },
      "execution_count": 2,
      "outputs": [
        {
          "output_type": "stream",
          "name": "stdout",
          "text": [
            "[5 6 7]\n"
          ]
        }
      ]
    },
    {
      "cell_type": "markdown",
      "source": [
        "Ejenmplo 3:([1,2,3,4,5,6,7,]) cortar elemntos desde el principio asta al indice 5"
      ],
      "metadata": {
        "id": "icfZcNGYMIRa"
      }
    },
    {
      "cell_type": "code",
      "source": [
        "import numpy as np\n",
        "\n",
        "arreglo = np.array([1,2,3,4,5,6,7])\n",
        "\n",
        "print(arreglo[:5])"
      ],
      "metadata": {
        "colab": {
          "base_uri": "https://localhost:8080/"
        },
        "id": "pv71amsiMa-i",
        "outputId": "792ee780-542e-4284-f51d-71bbf6c2243a"
      },
      "execution_count": 3,
      "outputs": [
        {
          "output_type": "stream",
          "name": "stdout",
          "text": [
            "[1 2 3 4 5]\n"
          ]
        }
      ]
    },
    {
      "cell_type": "markdown",
      "source": [
        "Elemplo 4 ([1,2,3,4,5,6,7]) corte negativo.utilizarnos el operador \"menos\" para hacer referencia a un indice desde el final.\n",
        "-------------------------------------------\n",
        "cortar el indice 3 desde el final del indice"
      ],
      "metadata": {
        "id": "qoeRkSqzM9WK"
      }
    },
    {
      "cell_type": "code",
      "source": [
        "import numpy as np\n",
        "\n",
        "arreglo = np.array([1,2,3,4,5,6,7])\n",
        "\n",
        "print(arreglo[-3: -1])"
      ],
      "metadata": {
        "colab": {
          "base_uri": "https://localhost:8080/"
        },
        "id": "ojA1e6cCNdf5",
        "outputId": "7eadc19e-a6c0-406f-92b5-24e38f318ce6"
      },
      "execution_count": 4,
      "outputs": [
        {
          "output_type": "stream",
          "name": "stdout",
          "text": [
            "[5 6]\n"
          ]
        }
      ]
    }
  ]
}